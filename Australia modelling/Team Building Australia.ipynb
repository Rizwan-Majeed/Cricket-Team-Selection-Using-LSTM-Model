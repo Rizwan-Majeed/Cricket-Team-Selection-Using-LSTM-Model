{
 "cells": [
  {
   "cell_type": "markdown",
   "id": "032aeebb",
   "metadata": {},
   "source": [
    "## Recommeding top 18"
   ]
  },
  {
   "cell_type": "code",
   "execution_count": 1,
   "id": "fbb59a38",
   "metadata": {},
   "outputs": [],
   "source": [
    "import pandas as pd\n",
    "import numpy as np\n",
    "import json\n",
    "import re\n",
    "\n",
    "import matplotlib.pyplot as plt\n",
    "from datetime import datetime\n",
    "import tensorflow.keras as keras\n"
   ]
  },
  {
   "cell_type": "code",
   "execution_count": 2,
   "id": "14b2d1b6",
   "metadata": {},
   "outputs": [],
   "source": [
    "team = 'Australia'"
   ]
  },
  {
   "cell_type": "code",
   "execution_count": 3,
   "id": "ce5ef2e1",
   "metadata": {},
   "outputs": [],
   "source": [
    "date_to_start = 'May,01,2018'  # keep this format"
   ]
  },
  {
   "cell_type": "code",
   "execution_count": 4,
   "id": "2871622b",
   "metadata": {},
   "outputs": [],
   "source": [
    "sequence_length = 10"
   ]
  },
  {
   "cell_type": "code",
   "execution_count": 5,
   "id": "8484acfb",
   "metadata": {},
   "outputs": [],
   "source": [
    "international_weight = 0.9"
   ]
  },
  {
   "cell_type": "code",
   "execution_count": 6,
   "id": "8a54b534",
   "metadata": {},
   "outputs": [],
   "source": [
    "def top_players(X, dataframe, players_data, model_path, skip_bowler, only_bowler):\n",
    "    inf_data = []\n",
    "    for player_id, indices in X.groupby('Player ID').indices.items():\n",
    "        if len(indices) < sequence_length:\n",
    "            continue\n",
    "        inf_data.append(X.loc[indices].sort_values('Date').iloc[-sequence_length + 1:].index)\n",
    "        \n",
    "    test_data = np.array([X.loc[idx].iloc[:, 2:].values for idx in inf_data])\n",
    "    inf_data = np.array([X.loc[idx].values for idx in inf_data])\n",
    "    model = keras.models.load_model(model_path)\n",
    "    print(test_data.shape)\n",
    "    preds = model.predict(test_data).flatten().round(3)\n",
    "    team_players = dataframe['Player ID'].unique()\n",
    "    \n",
    "    player_ratings = []\n",
    "    player_names = []\n",
    "    player_roles = []\n",
    "    bowling_styles = []\n",
    "    for data, rating in zip(inf_data, preds):\n",
    "        player_id = data[0][0]\n",
    "        if player_id not in team_players:\n",
    "            continue\n",
    "        player_name = dataframe[dataframe['Player ID'] == player_id]['Player Name'].values[0]\n",
    "        player_role = players_data[players_data['Player ID'] == player_id]['Playing Role'].values[0]\n",
    "        bowling_style = players_data[players_data['Player ID'] == player_id]['Bowling Style'].values[0]\n",
    "        if skip_bowler and player_role == \"Bowler\":\n",
    "            continue\n",
    "        if only_bowler and player_role not in [\"Bowler\", 'Bowling Allrounder', 'Allrounder']:\n",
    "            continue\n",
    "        player_ratings.append(rating)\n",
    "        player_names.append(player_name)\n",
    "        player_roles.append(player_role)\n",
    "        bowling_styles.append(bowling_style)\n",
    "        \n",
    "    player_ratings = np.array(player_ratings)\n",
    "    player_names = np.array(player_names)\n",
    "    player_roles = np.array(player_roles)\n",
    "    bowling_styles = np.array(bowling_styles)\n",
    "    \n",
    "    return player_names, player_ratings, player_roles, bowling_styles\n"
   ]
  },
  {
   "cell_type": "markdown",
   "id": "b6b19915",
   "metadata": {},
   "source": [
    "### Loading international data and model"
   ]
  },
  {
   "cell_type": "code",
   "execution_count": 7,
   "id": "48a8d649",
   "metadata": {},
   "outputs": [],
   "source": [
    "with open(\"results/international/player_nationalities.json\", \"r\") as fp:\n",
    "    player_nationalities = json.load(fp)"
   ]
  },
  {
   "cell_type": "code",
   "execution_count": 8,
   "id": "c9eb362b",
   "metadata": {},
   "outputs": [],
   "source": [
    "players_data_intl = pd.read_excel(\"results/international/players.xlsx\")"
   ]
  },
  {
   "cell_type": "code",
   "execution_count": 9,
   "id": "9bf5fd97",
   "metadata": {},
   "outputs": [],
   "source": [
    "batting_intl = pd.read_excel(\"results/international/batting.xlsx\")\n",
    "bowling_intl = pd.read_excel(\"results/international/bowling.xlsx\")"
   ]
  },
  {
   "cell_type": "code",
   "execution_count": 10,
   "id": "91f96135",
   "metadata": {},
   "outputs": [],
   "source": [
    "X_bat = pd.read_csv(\"./results/international/traindata_batting.csv\")\n",
    "X_bat['Date'] = pd.to_datetime(X_bat['Date'])\n",
    "X_bat = X_bat[X_bat['Date'] > datetime.strptime(date_to_start, \"%B,%d,%Y\")].reset_index(drop=True)\n",
    "X_bat = X_bat[X_bat['Player ID'].apply(lambda x: player_nationalities[str(x)] == team)].reset_index(drop=True)"
   ]
  },
  {
   "cell_type": "code",
   "execution_count": 11,
   "id": "fd169d66",
   "metadata": {},
   "outputs": [],
   "source": [
    "X_bowl = pd.read_csv(\"./results/international/traindata_bowling.csv\")\n",
    "X_bowl['Date'] = pd.to_datetime(X_bowl['Date'])\n",
    "X_bowl = X_bowl[X_bowl['Date'] > datetime.strptime(date_to_start, \"%B,%d,%Y\")].reset_index(drop=True)\n",
    "X_bowl = X_bowl[X_bowl['Player ID'].apply(lambda x: player_nationalities[str(x)] == team)].reset_index(drop=True)"
   ]
  },
  {
   "cell_type": "code",
   "execution_count": 12,
   "id": "1ccbc5fe",
   "metadata": {},
   "outputs": [],
   "source": [
    "intl_bowling_types = players_data_intl[players_data_intl['Playing Role'].apply(lambda x: x in [\"Bowler\", 'Bowling Allrounder', 'Allrounder'])]['Bowling Style'].unique()\n",
    "intl_spin_types = [b for b in intl_bowling_types if not re.match('.*fast.*', b.lower()) and not re.match('.*medium.*', b.lower())]"
   ]
  },
  {
   "cell_type": "code",
   "execution_count": 13,
   "id": "acc17fab",
   "metadata": {},
   "outputs": [
    {
     "name": "stdout",
     "output_type": "stream",
     "text": [
      "(13, 9, 27)\n"
     ]
    }
   ],
   "source": [
    "\n",
    "intl_batsmen, intl_batsmen_ratings,intl_batsmen_roles, _ = top_players(X_bat, batting_intl, players_data_intl, \"results/international/batting.h5\", \n",
    "                                                     skip_bowler=True, only_bowler=False)"
   ]
  },
  {
   "cell_type": "code",
   "execution_count": 14,
   "id": "e8331c06",
   "metadata": {},
   "outputs": [
    {
     "name": "stdout",
     "output_type": "stream",
     "text": [
      "(7, 9, 25)\n"
     ]
    }
   ],
   "source": [
    "intl_bowlers, intl_bowler_ratings,intl_bowler_roles, intl_bowling_styles = top_players(X_bowl, bowling_intl, players_data_intl, \"results/international/bowling.h5\", \n",
    "                                                     skip_bowler=False, only_bowler=True)"
   ]
  },
  {
   "cell_type": "markdown",
   "id": "1c8054a7",
   "metadata": {},
   "source": [
    "### Loading domestic data and model"
   ]
  },
  {
   "cell_type": "code",
   "execution_count": 15,
   "id": "78ded954",
   "metadata": {},
   "outputs": [],
   "source": [
    "with open(f\"results/domestic/{team.lower()}/player_teams.json\", \"r\") as fp:\n",
    "    player_teams = json.load(fp)"
   ]
  },
  {
   "cell_type": "code",
   "execution_count": 16,
   "id": "0a11cf6d",
   "metadata": {},
   "outputs": [],
   "source": [
    "players_data_dmstc = pd.read_excel(f\"results/domestic/{team.lower()}/players.xlsx\")"
   ]
  },
  {
   "cell_type": "code",
   "execution_count": 17,
   "id": "c8511eca",
   "metadata": {},
   "outputs": [],
   "source": [
    "date_to_start = 'May,01,2018'  # keep this format"
   ]
  },
  {
   "cell_type": "code",
   "execution_count": 18,
   "id": "7543db3f",
   "metadata": {},
   "outputs": [],
   "source": [
    "batting_dmstc = pd.read_excel(f\"results/domestic/{team.lower()}/batting.xlsx\")\n",
    "bowling_dmstc = pd.read_excel(f\"results/domestic/{team.lower()}/bowling.xlsx\")"
   ]
  },
  {
   "cell_type": "code",
   "execution_count": 19,
   "id": "7c2385a4",
   "metadata": {},
   "outputs": [],
   "source": [
    "non_eng_aus_teams = ['Pakistan', 'India', 'South Africa', 'New Zealand',\n",
    "       'Afghanistan', 'Bangladesh', 'Zimbabwe', 'West Indies',\n",
    "       'Sri Lanka', 'Ireland', 'Easterns (Zimbabwe)',\n",
    "       'Scotland', 'Papua New Guinea',\n",
    "       'United States of America', \n",
    "       'Bangladesh Cricket Board Academy', 'Ireland']"
   ]
  },
  {
   "cell_type": "code",
   "execution_count": 20,
   "id": "a39e83e4",
   "metadata": {},
   "outputs": [],
   "source": [
    "non_eng_aus_teams.extend(['Hong Kong Cricket Club', 'Gujranwala Cricket Association', 'Italy', 'Dhaka Dynamites', 'Colombo Kings','Colombo Cricket Club',\n",
    "                         'Abahani Limited','Germany','Dhaka Gladiators', 'Australia Under-19s', 'Multan Region','Denmark', 'Netherlands'])"
   ]
  },
  {
   "cell_type": "code",
   "execution_count": 21,
   "id": "3fac79cf",
   "metadata": {},
   "outputs": [],
   "source": [
    "non_eng_aus_teams.append('England') if team.lower() == \"australia\" else non_eng_aus_teams.append('Australia')"
   ]
  },
  {
   "cell_type": "code",
   "execution_count": 22,
   "id": "ffc1d0e0",
   "metadata": {},
   "outputs": [],
   "source": [
    "X_bat = pd.read_csv(f\"./results/domestic/{team.lower()}/traindata_batting.csv\")\n",
    "X_bat['Date'] = pd.to_datetime(X_bat['Date'])\n",
    "X_bat = X_bat[X_bat['Date'] > datetime.strptime(date_to_start, \"%B,%d,%Y\")].reset_index(drop=True)\n",
    "X_bat = X_bat[X_bat['Player ID'].apply(lambda x: player_teams[str(x)] not in non_eng_aus_teams )].reset_index(drop=True)\n"
   ]
  },
  {
   "cell_type": "code",
   "execution_count": 23,
   "id": "0d640e0a",
   "metadata": {},
   "outputs": [],
   "source": [
    "in_team = X_bat['Player ID'].apply(lambda x: re.match('.*australia.*', players_data_dmstc[(players_data_dmstc['Player ID'] == x)]['All teams'].values[0].lower()))\n",
    "X_bat = X_bat[in_team.apply(lambda x: x != None)].reset_index(drop=True)"
   ]
  },
  {
   "cell_type": "code",
   "execution_count": 24,
   "id": "ee060cae",
   "metadata": {},
   "outputs": [],
   "source": [
    "X_bowl = pd.read_csv(f\"./results/domestic/{team.lower()}/traindata_bowling.csv\")\n",
    "X_bowl['Date'] = pd.to_datetime(X_bowl['Date'])\n",
    "X_bowl = X_bowl[X_bowl['Date'] > datetime.strptime(date_to_start, \"%B,%d,%Y\")].reset_index(drop=True)\n",
    "X_bowl = X_bowl[X_bowl['Player ID'].apply(lambda x: player_teams[str(x)] not in non_eng_aus_teams )].reset_index(drop=True)"
   ]
  },
  {
   "cell_type": "code",
   "execution_count": 25,
   "id": "48257262",
   "metadata": {},
   "outputs": [],
   "source": [
    "in_team = X_bowl['Player ID'].apply(lambda x: re.match('.*australia.*', players_data_dmstc[(players_data_dmstc['Player ID'] == x)]['All teams'].values[0].lower()))\n",
    "X_bowl = X_bowl[in_team.apply(lambda x: x != None)].reset_index(drop=True)"
   ]
  },
  {
   "cell_type": "code",
   "execution_count": 26,
   "id": "5f49fccf",
   "metadata": {},
   "outputs": [],
   "source": [
    "dmstc_bowling_types = players_data_dmstc[players_data_dmstc['Playing Role'].apply(lambda x: x in [\"Bowler\", 'Bowling Allrounder', 'Allrounder'])]['Bowling Style'].unique()\n",
    "dmstc_spin_types = [b for b in dmstc_bowling_types if not re.match('.*fast.*', b.lower()) and not re.match('.*medium.*', b.lower())]"
   ]
  },
  {
   "cell_type": "code",
   "execution_count": 27,
   "id": "34cb211b",
   "metadata": {},
   "outputs": [
    {
     "name": "stdout",
     "output_type": "stream",
     "text": [
      "(62, 9, 23)\n"
     ]
    }
   ],
   "source": [
    "dmstc_batsmen, dmstc_batsmen_ratings,dmstc_batsmen_roles, _ = top_players(X_bat, batting_dmstc, players_data_dmstc, f\"results/domestic/{team.lower()}/batting.h5\", \n",
    "                                                     skip_bowler=True, only_bowler=False)"
   ]
  },
  {
   "cell_type": "code",
   "execution_count": 28,
   "id": "0317fe4e",
   "metadata": {},
   "outputs": [
    {
     "name": "stdout",
     "output_type": "stream",
     "text": [
      "(38, 9, 25)\n"
     ]
    }
   ],
   "source": [
    "dmstc_bowlers, dmstc_bowler_ratings,dmstc_bowler_roles, dmstc_bowling_styles = top_players(X_bowl, bowling_dmstc,players_data_dmstc, f\"results/domestic/{team.lower()}/bowling.h5\", \n",
    "                                                     skip_bowler=False, only_bowler=True)"
   ]
  },
  {
   "cell_type": "markdown",
   "id": "a4639a26",
   "metadata": {},
   "source": [
    "### 2 Wicket-keepers"
   ]
  },
  {
   "cell_type": "code",
   "execution_count": 29,
   "id": "a109fbc6",
   "metadata": {},
   "outputs": [],
   "source": [
    "# top wicket keepers\n",
    "wicket_keepers = intl_batsmen[intl_batsmen_roles == \"Wicketkeeper Batter\"]\n",
    "wicket_keeper_ratings = intl_batsmen_ratings[intl_batsmen_roles == \"Wicketkeeper Batter\"] * international_weight\n",
    "\n",
    "wicket_keepers_d = dmstc_batsmen[dmstc_batsmen_roles == \"Wicketkeeper Batter\"]\n",
    "wicket_keepers_d = np.array([\"[D] \" + d for d in wicket_keepers_d])\n",
    "wicket_keepers = np.append(wicket_keepers, wicket_keepers_d)\n",
    "wicket_keeper_ratings = np.append(wicket_keeper_ratings, dmstc_batsmen_ratings[dmstc_batsmen_roles == \"Wicketkeeper Batter\"]  * (1-international_weight))\n"
   ]
  },
  {
   "cell_type": "code",
   "execution_count": 30,
   "id": "181b1fb4",
   "metadata": {},
   "outputs": [],
   "source": [
    "sorted_idx = np.argsort(wicket_keeper_ratings)[::-1]\n",
    "top_wicketkeepers = wicket_keepers[sorted_idx][:4]\n",
    "top_wicketkeepers_ratings = wicket_keeper_ratings[sorted_idx][:4]\n",
    "# 4 wicket keepers becuase, mathew wade is retired now and tim paine is on break untill furthur notice"
   ]
  },
  {
   "cell_type": "code",
   "execution_count": 31,
   "id": "47306b62",
   "metadata": {},
   "outputs": [
    {
     "data": {
      "text/plain": [
       "(array(['Matthew Wade', 'Tim Paine', '[D] Alex Carey', '[D] Josh Inglis'],\n",
       "       dtype='<U20'),\n",
       " array([0.0891, 0.0603, 0.0478, 0.0458], dtype=float32))"
      ]
     },
     "execution_count": 31,
     "metadata": {},
     "output_type": "execute_result"
    }
   ],
   "source": [
    "top_wicketkeepers, top_wicketkeepers_ratings"
   ]
  },
  {
   "cell_type": "markdown",
   "id": "96f58386",
   "metadata": {},
   "source": [
    "### 4 All-rounders"
   ]
  },
  {
   "cell_type": "code",
   "execution_count": 32,
   "id": "aaf077b7",
   "metadata": {},
   "outputs": [
    {
     "data": {
      "text/plain": [
       "array(['Batting Allrounder', 'Opening Batter', 'Opening Batter',\n",
       "       'Batting Allrounder', 'Wicketkeeper Batter', 'Middle order Batter',\n",
       "       'Wicketkeeper Batter', 'Middle order Batter', 'Top order Batter'],\n",
       "      dtype='<U19')"
      ]
     },
     "execution_count": 32,
     "metadata": {},
     "output_type": "execute_result"
    }
   ],
   "source": [
    "intl_batsmen_roles"
   ]
  },
  {
   "cell_type": "code",
   "execution_count": 33,
   "id": "c99a145c",
   "metadata": {},
   "outputs": [
    {
     "data": {
      "text/plain": [
       "array(['Cameron Green', 'Marnus Labuschagne'], dtype='<U18')"
      ]
     },
     "execution_count": 33,
     "metadata": {},
     "output_type": "execute_result"
    }
   ],
   "source": [
    "intl_batsmen[(intl_batsmen_roles == \"Allrounder\") | (intl_batsmen_roles == \"Batting Allrounder\")]"
   ]
  },
  {
   "cell_type": "code",
   "execution_count": 34,
   "id": "6cfb1137",
   "metadata": {},
   "outputs": [],
   "source": [
    "# top wicket keepers\n",
    "all_rounders = intl_batsmen[(intl_batsmen_roles == \"Allrounder\") | (intl_batsmen_roles == \"Batting Allrounder\")]\n",
    "all_rounder_ratings = intl_batsmen_ratings[(intl_batsmen_roles == \"Allrounder\") | (intl_batsmen_roles == \"Batting Allrounder\")] * international_weight\n",
    "\n",
    "all_rounders_d = dmstc_batsmen[(dmstc_batsmen_roles == \"Allrounder\") | (dmstc_batsmen_roles == \"Batting Allrounder\")]\n",
    "all_rounders_d = np.array([\"[D] \" + d for d in all_rounders_d])\n",
    "all_rounders = np.append(all_rounders, all_rounders_d)\n",
    "all_rounder_ratings = np.append(all_rounder_ratings, dmstc_batsmen_ratings[(dmstc_batsmen_roles == \"Allrounder\") | (dmstc_batsmen_roles == \"Batting Allrounder\")]  * (1-international_weight))\n"
   ]
  },
  {
   "cell_type": "code",
   "execution_count": 51,
   "id": "0f5371c2",
   "metadata": {},
   "outputs": [],
   "source": [
    "sorted_idx = np.argsort(all_rounder_ratings)[::-1]\n",
    "top_all_rounders = all_rounders[sorted_idx][:5]\n",
    "top_all_rounders_ratings = all_rounder_ratings[sorted_idx][:5]\n",
    "#4 all rounders because in previous ashes four all rounders were picked"
   ]
  },
  {
   "cell_type": "code",
   "execution_count": 52,
   "id": "5ced6050",
   "metadata": {
    "scrolled": true
   },
   "outputs": [
    {
     "data": {
      "text/plain": [
       "(array(['Marnus Labuschagne', 'Cameron Green', '[D] Sean Abbott',\n",
       "        '[D] Cameron Green', '[D] Marcus Stoinis'], dtype='<U22'),\n",
       " array([0.243     , 0.08459999, 0.0485    , 0.0478    , 0.0425    ],\n",
       "       dtype=float32))"
      ]
     },
     "execution_count": 52,
     "metadata": {},
     "output_type": "execute_result"
    }
   ],
   "source": [
    "top_all_rounders, top_all_rounders_ratings"
   ]
  },
  {
   "cell_type": "markdown",
   "id": "143849d8",
   "metadata": {},
   "source": [
    "### 3 Spinners"
   ]
  },
  {
   "cell_type": "code",
   "execution_count": 37,
   "id": "22a109bc",
   "metadata": {},
   "outputs": [
    {
     "data": {
      "text/plain": [
       "(array(['Bowler', 'Bowler', 'Bowler', 'Bowler'], dtype='<U6'),\n",
       " array(['Right arm Fast medium', 'Left arm Fast', 'Right arm Offbreak',\n",
       "        'Right arm Fast'], dtype='<U21'))"
      ]
     },
     "execution_count": 37,
     "metadata": {},
     "output_type": "execute_result"
    }
   ],
   "source": [
    "intl_bowler_roles, intl_bowling_styles"
   ]
  },
  {
   "cell_type": "code",
   "execution_count": 38,
   "id": "d94b255c",
   "metadata": {},
   "outputs": [],
   "source": [
    "# top wicket keepers\n",
    "spinners = intl_bowlers[np.array([st in intl_spin_types for st in intl_bowling_styles])]\n",
    "spinner_ratings = intl_bowler_ratings[np.array([st in intl_spin_types for st in intl_bowling_styles])] * international_weight\n",
    "\n",
    "spinners_d = dmstc_bowlers[np.array([st in dmstc_spin_types for st in dmstc_bowling_styles])]\n",
    "spinners_d = np.array([\"[D] \" + d for d in spinners_d])\n",
    "spinners = np.append(spinners, spinners_d)\n",
    "spinner_ratings = np.append(spinner_ratings, dmstc_bowler_ratings[np.array([st in dmstc_spin_types for st in dmstc_bowling_styles])]  * (1-international_weight))\n"
   ]
  },
  {
   "cell_type": "code",
   "execution_count": 39,
   "id": "68ad53da",
   "metadata": {},
   "outputs": [],
   "source": [
    "#sorted_idx = np.argsort(spinner_ratings)[::-1]\n",
    "#top_spinners = spinners[sorted_idx][:int(n_bowlers * spinner_ratio)]\n",
    "#top_spinner_ratings = spinner_ratings[sorted_idx][:int(n_bowlers * spinner_ratio)]"
   ]
  },
  {
   "cell_type": "code",
   "execution_count": 53,
   "id": "d1a6fc1f",
   "metadata": {},
   "outputs": [],
   "source": [
    "sorted_idx = np.argsort(spinner_ratings)[::-1]\n",
    "top_spinners = spinners[sorted_idx][:3]\n",
    "top_spinner_ratings = spinner_ratings[sorted_idx][:3]\n",
    "#3 spinners"
   ]
  },
  {
   "cell_type": "code",
   "execution_count": 54,
   "id": "c39aa7ef",
   "metadata": {},
   "outputs": [
    {
     "data": {
      "text/plain": [
       "(array(['Nathan Lyon', \"[D] Steve O'Keefe\", '[D] Mitchell Swepson'],\n",
       "       dtype='<U21'),\n",
       " array([0.2502, 0.0563, 0.0416], dtype=float32))"
      ]
     },
     "execution_count": 54,
     "metadata": {},
     "output_type": "execute_result"
    }
   ],
   "source": [
    "top_spinners, top_spinner_ratings"
   ]
  },
  {
   "cell_type": "markdown",
   "id": "0f809af5",
   "metadata": {},
   "source": [
    "### 4 Non spinners (i.e., fast, medium etc.)"
   ]
  },
  {
   "cell_type": "code",
   "execution_count": 42,
   "id": "93fe39a2",
   "metadata": {},
   "outputs": [
    {
     "data": {
      "text/plain": [
       "array(['Josh Hazlewood', 'Mitchell Starc', 'Pat Cummins'], dtype='<U14')"
      ]
     },
     "execution_count": 42,
     "metadata": {},
     "output_type": "execute_result"
    }
   ],
   "source": [
    "intl_bowlers[np.array([st not in intl_spin_types for st in intl_bowling_styles])]"
   ]
  },
  {
   "cell_type": "code",
   "execution_count": 43,
   "id": "b3e2f01b",
   "metadata": {},
   "outputs": [],
   "source": [
    "# top fasts\n",
    "non_spinners = intl_bowlers[np.array([st not in intl_spin_types for st in intl_bowling_styles])]\n",
    "non_spinner_ratings = intl_bowler_ratings[np.array([st not in intl_spin_types for st in intl_bowling_styles])] * international_weight\n",
    "\n",
    "non_spinners_d = dmstc_bowlers[np.array([st not in dmstc_spin_types for st in dmstc_bowling_styles])]\n",
    "non_spinners_d = np.array([\"[D] \" + d for d in non_spinners_d])\n",
    "non_spinners = np.append(non_spinners, non_spinners_d)\n",
    "non_spinner_ratings = np.append(non_spinner_ratings, dmstc_bowler_ratings[np.array([st not in dmstc_spin_types for st in dmstc_bowling_styles])]  * (1-international_weight))\n"
   ]
  },
  {
   "cell_type": "code",
   "execution_count": 44,
   "id": "659c7bc8",
   "metadata": {},
   "outputs": [
    {
     "data": {
      "text/plain": [
       "array([0.0202, 0.0365, 0.0365, 0.0286, 0.0263, 0.0234, 0.0256, 0.0126,\n",
       "       0.0201, 0.022 , 0.0141, 0.0385, 0.0217, 0.0176, 0.0238, 0.0172,\n",
       "       0.0475, 0.0352, 0.0306, 0.0324, 0.0326, 0.0199, 0.0232, 0.0223,\n",
       "       0.0221], dtype=float32)"
      ]
     },
     "execution_count": 44,
     "metadata": {},
     "output_type": "execute_result"
    }
   ],
   "source": [
    "dmstc_bowler_ratings[np.array([st not in dmstc_spin_types for st in dmstc_bowling_styles])]  * (1-international_weight)"
   ]
  },
  {
   "cell_type": "code",
   "execution_count": 55,
   "id": "f8d571cb",
   "metadata": {},
   "outputs": [],
   "source": [
    "sorted_idx = np.argsort(non_spinner_ratings)[::-1]\n",
    "top_non_spinners = non_spinners[sorted_idx][:5]\n",
    "top_non_spinner_ratings = non_spinner_ratings[sorted_idx][:5]\n",
    "#5 fast bowlers due to repition of starc"
   ]
  },
  {
   "cell_type": "code",
   "execution_count": 56,
   "id": "ae1adc86",
   "metadata": {},
   "outputs": [
    {
     "data": {
      "text/plain": [
       "(array(['Josh Hazlewood', 'Mitchell Starc', 'Pat Cummins',\n",
       "        '[D] Mitchell Starc', '[D] Joe Mennie'], dtype='<U21'),\n",
       " array([0.3726, 0.1683, 0.162 , 0.0475, 0.0385], dtype=float32))"
      ]
     },
     "execution_count": 56,
     "metadata": {},
     "output_type": "execute_result"
    }
   ],
   "source": [
    "top_non_spinners, top_non_spinner_ratings"
   ]
  },
  {
   "cell_type": "markdown",
   "id": "3006893a",
   "metadata": {},
   "source": [
    "### 6 Batsmen"
   ]
  },
  {
   "cell_type": "code",
   "execution_count": 47,
   "id": "6ecd6d0d",
   "metadata": {},
   "outputs": [
    {
     "data": {
      "text/plain": [
       "array(['Batting Allrounder', 'Opening Batter', 'Opening Batter',\n",
       "       'Batting Allrounder', 'Wicketkeeper Batter', 'Middle order Batter',\n",
       "       'Wicketkeeper Batter', 'Middle order Batter', 'Top order Batter'],\n",
       "      dtype='<U19')"
      ]
     },
     "execution_count": 47,
     "metadata": {},
     "output_type": "execute_result"
    }
   ],
   "source": [
    "intl_batsmen_roles"
   ]
  },
  {
   "cell_type": "code",
   "execution_count": 48,
   "id": "d19526e6",
   "metadata": {},
   "outputs": [],
   "source": [
    "# top wicket keepers\n",
    "batsmen = intl_batsmen[(intl_batsmen_roles != \"Allrounder\") & (intl_batsmen_roles != \"Batting Allrounder\") & (intl_batsmen_roles != \"Bowling Allrounder\") & (intl_batsmen_roles != \"Wicketkeeper Batter\")]\n",
    "batsmen_ratings = intl_batsmen_ratings[(intl_batsmen_roles != \"Allrounder\") & (intl_batsmen_roles != \"Batting Allrounder\") & (intl_batsmen_roles != \"Bowling Allrounder\") & (intl_batsmen_roles != \"Wicketkeeper Batter\")] * international_weight\n",
    "\n",
    "batsmen_d = dmstc_batsmen[(dmstc_batsmen_roles != \"Allrounder\") & (dmstc_batsmen_roles != \"Batting Allrounder\") & (dmstc_batsmen_roles != \"Bowling Allrounder\") & (dmstc_batsmen_roles != \"Wicketkeeper Batter\")]\n",
    "batsmen_d = np.array([\"[D] \" + d for d in batsmen_d])\n",
    "batsmen = np.append(batsmen, batsmen_d)\n",
    "batsmen_ratings = np.append(batsmen_ratings, dmstc_batsmen_ratings[(dmstc_batsmen_roles != \"Allrounder\") & (dmstc_batsmen_roles != \"Batting Allrounder\") & (dmstc_batsmen_roles != \"Bowling Allrounder\") & (dmstc_batsmen_roles != \"Wicketkeeper Batter\")]  * (1-international_weight))\n"
   ]
  },
  {
   "cell_type": "code",
   "execution_count": 49,
   "id": "2643b73c",
   "metadata": {},
   "outputs": [],
   "source": [
    "sorted_idx = np.argsort(batsmen_ratings)[::-1]\n",
    "top_batsmen = batsmen[sorted_idx][:6]\n",
    "top_batsmen_ratings = batsmen_ratings[sorted_idx][:6]\n",
    "#6 specialist batsmen becuase in previous ashes 6 specialist batsmen were picked"
   ]
  },
  {
   "cell_type": "code",
   "execution_count": 50,
   "id": "53402b6e",
   "metadata": {
    "scrolled": true
   },
   "outputs": [
    {
     "data": {
      "text/plain": [
       "(array(['Steven Smith', 'Usman Khawaja', 'Marcus Harris', 'David Warner',\n",
       "        'Travis Head', '[D] Nic Maddinson'], dtype='<U20'),\n",
       " array([0.35189998, 0.33749998, 0.3294    , 0.2871    , 0.21689999,\n",
       "        0.055     ], dtype=float32))"
      ]
     },
     "execution_count": 50,
     "metadata": {},
     "output_type": "execute_result"
    }
   ],
   "source": [
    "top_batsmen, top_batsmen_ratings"
   ]
  }
 ],
 "metadata": {
  "kernelspec": {
   "display_name": "Python 3 (ipykernel)",
   "language": "python",
   "name": "python3"
  },
  "language_info": {
   "codemirror_mode": {
    "name": "ipython",
    "version": 3
   },
   "file_extension": ".py",
   "mimetype": "text/x-python",
   "name": "python",
   "nbconvert_exporter": "python",
   "pygments_lexer": "ipython3",
   "version": "3.9.7"
  }
 },
 "nbformat": 4,
 "nbformat_minor": 5
}
