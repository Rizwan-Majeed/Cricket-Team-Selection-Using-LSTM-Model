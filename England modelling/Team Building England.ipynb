{
 "cells": [
  {
   "cell_type": "markdown",
   "id": "032aeebb",
   "metadata": {},
   "source": [
    "## Recommeding top 18"
   ]
  },
  {
   "cell_type": "code",
   "execution_count": 1,
   "id": "fbb59a38",
   "metadata": {},
   "outputs": [],
   "source": [
    "import pandas as pd\n",
    "import numpy as np\n",
    "import json\n",
    "import re\n",
    "\n",
    "import matplotlib.pyplot as plt\n",
    "from datetime import datetime\n",
    "import tensorflow.keras as keras\n"
   ]
  },
  {
   "cell_type": "code",
   "execution_count": 56,
   "id": "14b2d1b6",
   "metadata": {},
   "outputs": [],
   "source": [
    "team = 'England'\n",
    "n_batsmen = 9 # one batsmen is being repeated thats why 9 but acutally its 8 batsmen\n",
    "n_wicketkeeper = 2\n",
    "n_allrounders = 2"
   ]
  },
  {
   "cell_type": "code",
   "execution_count": 3,
   "id": "ce5ef2e1",
   "metadata": {},
   "outputs": [],
   "source": [
    "date_to_start = 'May,01,2018'  # keep this format"
   ]
  },
  {
   "cell_type": "code",
   "execution_count": 4,
   "id": "2871622b",
   "metadata": {},
   "outputs": [],
   "source": [
    "sequence_length = 15"
   ]
  },
  {
   "cell_type": "code",
   "execution_count": 5,
   "id": "8484acfb",
   "metadata": {},
   "outputs": [],
   "source": [
    "international_weight = 0.9"
   ]
  },
  {
   "cell_type": "code",
   "execution_count": 6,
   "id": "8a54b534",
   "metadata": {},
   "outputs": [],
   "source": [
    "def top_players(X, dataframe, players_data, model_path, skip_bowler, only_bowler):\n",
    "    inf_data = []\n",
    "    for player_id, indices in X.groupby('Player ID').indices.items():\n",
    "        if len(indices) < sequence_length:\n",
    "            continue\n",
    "        inf_data.append(X.loc[indices].sort_values('Date').iloc[-sequence_length + 1:].index)\n",
    "        \n",
    "    test_data = np.array([X.loc[idx].iloc[:, 2:].values for idx in inf_data])\n",
    "    inf_data = np.array([X.loc[idx].values for idx in inf_data])\n",
    "    model = keras.models.load_model(model_path)\n",
    "    preds = model.predict(test_data).flatten().round(3)\n",
    "    team_players = dataframe['Player ID'].unique()\n",
    "    \n",
    "    player_ratings = []\n",
    "    player_names = []\n",
    "    player_roles = []\n",
    "    bowling_styles = []\n",
    "    for data, rating in zip(inf_data, preds):\n",
    "        player_id = data[0][0]\n",
    "        if player_id not in team_players:\n",
    "            continue\n",
    "        player_name = dataframe[dataframe['Player ID'] == player_id]['Player Name'].values[0]\n",
    "        player_role = players_data[players_data['Player ID'] == player_id]['Playing Role'].values[0]\n",
    "        bowling_style = players_data[players_data['Player ID'] == player_id]['Bowling Style'].values[0]\n",
    "        if skip_bowler and player_role == \"Bowler\":\n",
    "            continue\n",
    "        if only_bowler and player_role not in [\"Bowler\", 'Bowling Allrounder', 'Allrounder']:\n",
    "            continue\n",
    "        player_ratings.append(rating)\n",
    "        player_names.append(player_name)\n",
    "        player_roles.append(player_role)\n",
    "        bowling_styles.append(bowling_style)\n",
    "        \n",
    "    player_ratings = np.array(player_ratings)\n",
    "    player_names = np.array(player_names)\n",
    "    player_roles = np.array(player_roles)\n",
    "    bowling_styles = np.array(bowling_styles)\n",
    "    \n",
    "    return player_names, player_ratings, player_roles, bowling_styles\n"
   ]
  },
  {
   "cell_type": "markdown",
   "id": "b6b19915",
   "metadata": {},
   "source": [
    "### Loading international data and model"
   ]
  },
  {
   "cell_type": "code",
   "execution_count": 7,
   "id": "48a8d649",
   "metadata": {},
   "outputs": [],
   "source": [
    "with open(\"results/international/player_nationalities.json\", \"r\") as fp:\n",
    "    player_nationalities = json.load(fp)"
   ]
  },
  {
   "cell_type": "code",
   "execution_count": 8,
   "id": "c9eb362b",
   "metadata": {},
   "outputs": [],
   "source": [
    "players_data_intl = pd.read_excel(\"results/international/players.xlsx\")"
   ]
  },
  {
   "cell_type": "code",
   "execution_count": 9,
   "id": "9bf5fd97",
   "metadata": {},
   "outputs": [],
   "source": [
    "batting_intl = pd.read_excel(\"results/international/batting.xlsx\")\n",
    "bowling_intl = pd.read_excel(\"results/international/bowling.xlsx\")"
   ]
  },
  {
   "cell_type": "code",
   "execution_count": 10,
   "id": "91f96135",
   "metadata": {},
   "outputs": [],
   "source": [
    "X_bat = pd.read_csv(\"./results/international/traindata_batting.csv\")\n",
    "X_bat['Date'] = pd.to_datetime(X_bat['Date'])\n",
    "X_bat = X_bat[X_bat['Date'] > datetime.strptime(date_to_start, \"%B,%d,%Y\")].reset_index(drop=True)\n",
    "X_bat = X_bat[X_bat['Player ID'].apply(lambda x: player_nationalities[str(x)] == team)].reset_index(drop=True)"
   ]
  },
  {
   "cell_type": "code",
   "execution_count": 11,
   "id": "fd169d66",
   "metadata": {},
   "outputs": [],
   "source": [
    "X_bowl = pd.read_csv(\"./results/international/traindata_bowling.csv\")\n",
    "X_bowl['Date'] = pd.to_datetime(X_bowl['Date'])\n",
    "X_bowl = X_bowl[X_bowl['Date'] > datetime.strptime(date_to_start, \"%B,%d,%Y\")].reset_index(drop=True)\n",
    "X_bowl = X_bowl[X_bowl['Player ID'].apply(lambda x: player_nationalities[str(x)] == team)].reset_index(drop=True)"
   ]
  },
  {
   "cell_type": "code",
   "execution_count": 12,
   "id": "1ccbc5fe",
   "metadata": {},
   "outputs": [],
   "source": [
    "intl_bowling_types = players_data_intl[players_data_intl['Playing Role'].apply(lambda x: x in [\"Bowler\", 'Bowling Allrounder', 'Allrounder'])]['Bowling Style'].unique()\n",
    "intl_spin_types = [b for b in intl_bowling_types if not re.match('.*fast.*', b.lower()) and not re.match('.*medium.*', b.lower())]"
   ]
  },
  {
   "cell_type": "code",
   "execution_count": 13,
   "id": "acc17fab",
   "metadata": {},
   "outputs": [],
   "source": [
    "\n",
    "intl_batsmen, intl_batsmen_ratings,intl_batsmen_roles, _ = top_players(X_bat, batting_intl, players_data_intl, \"results/international/batting.h5\", \n",
    "                                                     skip_bowler=True, only_bowler=False)"
   ]
  },
  {
   "cell_type": "code",
   "execution_count": 14,
   "id": "e8331c06",
   "metadata": {},
   "outputs": [],
   "source": [
    "intl_bowlers, intl_bowler_ratings,intl_bowler_roles, intl_bowling_styles = top_players(X_bowl, bowling_intl, players_data_intl, \"results/international/bowling.h5\", \n",
    "                                                     skip_bowler=False, only_bowler=True)"
   ]
  },
  {
   "cell_type": "markdown",
   "id": "1c8054a7",
   "metadata": {},
   "source": [
    "### Loading domestic data and model"
   ]
  },
  {
   "cell_type": "code",
   "execution_count": 15,
   "id": "78ded954",
   "metadata": {},
   "outputs": [],
   "source": [
    "with open(f\"results/domestic/{team.lower()}/player_teams.json\", \"r\") as fp:\n",
    "    player_teams = json.load(fp)"
   ]
  },
  {
   "cell_type": "code",
   "execution_count": 16,
   "id": "0a11cf6d",
   "metadata": {},
   "outputs": [],
   "source": [
    "players_data_dmstc = pd.read_excel(f\"results/domestic/{team.lower()}/players.xlsx\")"
   ]
  },
  {
   "cell_type": "code",
   "execution_count": 17,
   "id": "c8511eca",
   "metadata": {},
   "outputs": [],
   "source": [
    "date_to_start = 'May,01,2018'  # keep this format"
   ]
  },
  {
   "cell_type": "code",
   "execution_count": 18,
   "id": "7543db3f",
   "metadata": {},
   "outputs": [],
   "source": [
    "batting_dmstc = pd.read_excel(f\"results/domestic/{team.lower()}/batting.xlsx\")\n",
    "bowling_dmstc = pd.read_excel(f\"results/domestic/{team.lower()}/bowling.xlsx\")"
   ]
  },
  {
   "cell_type": "code",
   "execution_count": 19,
   "id": "7c2385a4",
   "metadata": {},
   "outputs": [],
   "source": [
    "non_eng_aus_teams = ['Pakistan', 'India', 'South Africa', 'New Zealand',\n",
    "       'Afghanistan', 'Bangladesh', 'Zimbabwe', 'West Indies',\n",
    "       'Sri Lanka', 'Ireland', 'Easterns (Zimbabwe)',\n",
    "       'Scotland', 'Papua New Guinea',\n",
    "       'United States of America', \n",
    "       'Bangladesh Cricket Board Academy', 'Ireland']"
   ]
  },
  {
   "cell_type": "code",
   "execution_count": 20,
   "id": "a39e83e4",
   "metadata": {},
   "outputs": [],
   "source": [
    "non_eng_aus_teams.extend(['Hong Kong Cricket Club', 'Gujranwala Cricket Association', 'Italy', 'Dhaka Dynamites', 'Colombo Kings','Colombo Cricket Club',\n",
    "                         'Abahani Limited','Germany','Dhaka Gladiators', 'Australia Under-19s', 'Multan Region','Denmark', 'Netherlands'])"
   ]
  },
  {
   "cell_type": "code",
   "execution_count": 21,
   "id": "3fac79cf",
   "metadata": {},
   "outputs": [],
   "source": [
    "non_eng_aus_teams.append('England') if team.lower() == \"australia\" else non_eng_aus_teams.append('Australia')"
   ]
  },
  {
   "cell_type": "code",
   "execution_count": 22,
   "id": "ffc1d0e0",
   "metadata": {},
   "outputs": [],
   "source": [
    "X_bat = pd.read_csv(f\"./results/domestic/{team.lower()}/traindata_batting.csv\")\n",
    "X_bat['Date'] = pd.to_datetime(X_bat['Date'])\n",
    "X_bat = X_bat[X_bat['Date'] > datetime.strptime(date_to_start, \"%B,%d,%Y\")].reset_index(drop=True)\n",
    "X_bat = X_bat[X_bat['Player ID'].apply(lambda x: player_teams[str(x)] not in non_eng_aus_teams )].reset_index(drop=True)\n"
   ]
  },
  {
   "cell_type": "code",
   "execution_count": 23,
   "id": "0d640e0a",
   "metadata": {},
   "outputs": [],
   "source": [
    "in_team = X_bat['Player ID'].apply(lambda x: re.match('.*england.*', players_data_dmstc[(players_data_dmstc['Player ID'] == x)]['All teams'].values[0].lower()))\n",
    "X_bat = X_bat[in_team.apply(lambda x: x != None)].reset_index(drop=True)"
   ]
  },
  {
   "cell_type": "code",
   "execution_count": 24,
   "id": "ee060cae",
   "metadata": {},
   "outputs": [],
   "source": [
    "X_bowl = pd.read_csv(f\"./results/domestic/{team.lower()}/traindata_bowling.csv\")\n",
    "X_bowl['Date'] = pd.to_datetime(X_bowl['Date'])\n",
    "X_bowl = X_bowl[X_bowl['Date'] > datetime.strptime(date_to_start, \"%B,%d,%Y\")].reset_index(drop=True)\n",
    "X_bowl = X_bowl[X_bowl['Player ID'].apply(lambda x: player_teams[str(x)] not in non_eng_aus_teams )].reset_index(drop=True)"
   ]
  },
  {
   "cell_type": "code",
   "execution_count": 25,
   "id": "48257262",
   "metadata": {},
   "outputs": [],
   "source": [
    "in_team = X_bowl['Player ID'].apply(lambda x: re.match('.*england.*', players_data_dmstc[(players_data_dmstc['Player ID'] == x)]['All teams'].values[0].lower()))\n",
    "X_bowl = X_bowl[in_team.apply(lambda x: x != None)].reset_index(drop=True)"
   ]
  },
  {
   "cell_type": "code",
   "execution_count": 26,
   "id": "5f49fccf",
   "metadata": {},
   "outputs": [],
   "source": [
    "dmstc_bowling_types = players_data_dmstc[players_data_dmstc['Playing Role'].apply(lambda x: x in [\"Bowler\", 'Bowling Allrounder', 'Allrounder'])]['Bowling Style'].unique()\n",
    "dmstc_spin_types = [b for b in dmstc_bowling_types if not re.match('.*fast.*', b.lower()) and not re.match('.*medium.*', b.lower())]"
   ]
  },
  {
   "cell_type": "code",
   "execution_count": 27,
   "id": "34cb211b",
   "metadata": {},
   "outputs": [],
   "source": [
    "dmstc_batsmen, dmstc_batsmen_ratings,dmstc_batsmen_roles, _ = top_players(X_bat, batting_dmstc, players_data_dmstc, f\"results/domestic/{team.lower()}/batting.h5\", \n",
    "                                                     skip_bowler=True, only_bowler=False)"
   ]
  },
  {
   "cell_type": "code",
   "execution_count": 28,
   "id": "0317fe4e",
   "metadata": {},
   "outputs": [],
   "source": [
    "dmstc_bowlers, dmstc_bowler_ratings,dmstc_bowler_roles, dmstc_bowling_styles = top_players(X_bowl, bowling_dmstc,players_data_dmstc, f\"results/domestic/{team.lower()}/bowling.h5\", \n",
    "                                                     skip_bowler=False, only_bowler=True)"
   ]
  },
  {
   "cell_type": "markdown",
   "id": "a4639a26",
   "metadata": {},
   "source": [
    "### 2 Wicket-keepers"
   ]
  },
  {
   "cell_type": "code",
   "execution_count": 29,
   "id": "a109fbc6",
   "metadata": {},
   "outputs": [],
   "source": [
    "# top wicket keepers\n",
    "wicket_keepers = intl_batsmen[intl_batsmen_roles == \"Wicketkeeper Batter\"]\n",
    "wicket_keeper_ratings = intl_batsmen_ratings[intl_batsmen_roles == \"Wicketkeeper Batter\"] * international_weight\n",
    "\n",
    "wicket_keepers_d = dmstc_batsmen[dmstc_batsmen_roles == \"Wicketkeeper Batter\"]\n",
    "wicket_keepers_d = np.array([\"[D] \" + d for d in wicket_keepers_d])\n",
    "wicket_keepers = np.append(wicket_keepers, wicket_keepers_d)\n",
    "wicket_keeper_ratings = np.append(wicket_keeper_ratings, dmstc_batsmen_ratings[dmstc_batsmen_roles == \"Wicketkeeper Batter\"]  * (1-international_weight))\n"
   ]
  },
  {
   "cell_type": "code",
   "execution_count": 30,
   "id": "181b1fb4",
   "metadata": {},
   "outputs": [],
   "source": [
    "sorted_idx = np.argsort(wicket_keeper_ratings)[::-1]\n",
    "top_wicketkeepers = wicket_keepers[sorted_idx][:n_wicketkeeper]\n",
    "top_wicketkeepers_ratings = wicket_keeper_ratings[sorted_idx][:n_wicketkeeper]\n",
    "#2 wicket keepers"
   ]
  },
  {
   "cell_type": "code",
   "execution_count": 31,
   "id": "47306b62",
   "metadata": {},
   "outputs": [
    {
     "data": {
      "text/plain": [
       "(array(['Jonny Bairstow', 'Jos Buttler'], dtype='<U23'),\n",
       " array([0.2142, 0.1476], dtype=float32))"
      ]
     },
     "execution_count": 31,
     "metadata": {},
     "output_type": "execute_result"
    }
   ],
   "source": [
    "top_wicketkeepers, top_wicketkeepers_ratings"
   ]
  },
  {
   "cell_type": "markdown",
   "id": "96f58386",
   "metadata": {},
   "source": [
    "### 2 All-rounders"
   ]
  },
  {
   "cell_type": "code",
   "execution_count": 32,
   "id": "aaf077b7",
   "metadata": {},
   "outputs": [
    {
     "data": {
      "text/plain": [
       "array(['Allrounder', 'Allrounder', 'Opening Batter', 'Top order Batter',\n",
       "       'Top order Batter', 'Wicketkeeper Batter', 'Wicketkeeper Batter',\n",
       "       'Middle order Batter', 'Opening Batter', 'Allrounder',\n",
       "       'Top order Batter'], dtype='<U19')"
      ]
     },
     "execution_count": 32,
     "metadata": {},
     "output_type": "execute_result"
    }
   ],
   "source": [
    "intl_batsmen_roles"
   ]
  },
  {
   "cell_type": "code",
   "execution_count": 33,
   "id": "c99a145c",
   "metadata": {},
   "outputs": [
    {
     "data": {
      "text/plain": [
       "array(['Ben Stokes', 'Chris Woakes', 'Sam Curran'], dtype='<U14')"
      ]
     },
     "execution_count": 33,
     "metadata": {},
     "output_type": "execute_result"
    }
   ],
   "source": [
    "intl_batsmen[(intl_batsmen_roles == \"Allrounder\") | (intl_batsmen_roles == \"Batting Allrounder\")]"
   ]
  },
  {
   "cell_type": "code",
   "execution_count": 34,
   "id": "6cfb1137",
   "metadata": {},
   "outputs": [],
   "source": [
    "#top all rounders\n",
    "all_rounders = intl_batsmen[(intl_batsmen_roles == \"Allrounder\") | (intl_batsmen_roles == \"Batting Allrounder\")]\n",
    "all_rounder_ratings = intl_batsmen_ratings[(intl_batsmen_roles == \"Allrounder\") | (intl_batsmen_roles == \"Batting Allrounder\")] * international_weight\n",
    "\n",
    "all_rounders_d = dmstc_batsmen[(dmstc_batsmen_roles == \"Allrounder\") | (dmstc_batsmen_roles == \"Batting Allrounder\")]\n",
    "all_rounders_d = np.array([\"[D] \" + d for d in all_rounders_d])\n",
    "all_rounders = np.append(all_rounders, all_rounders_d)\n",
    "all_rounder_ratings = np.append(all_rounder_ratings, dmstc_batsmen_ratings[(dmstc_batsmen_roles == \"Allrounder\") | (dmstc_batsmen_roles == \"Batting Allrounder\")]  * (1-international_weight))\n"
   ]
  },
  {
   "cell_type": "code",
   "execution_count": 35,
   "id": "0f5371c2",
   "metadata": {},
   "outputs": [],
   "source": [
    "sorted_idx = np.argsort(all_rounder_ratings)[::-1]\n",
    "top_all_rounders = all_rounders[sorted_idx][:n_allrounders]\n",
    "top_all_rounders_ratings = all_rounder_ratings[sorted_idx][:n_allrounders]\n",
    "#2 all rounders"
   ]
  },
  {
   "cell_type": "code",
   "execution_count": 36,
   "id": "5ced6050",
   "metadata": {
    "scrolled": true
   },
   "outputs": [
    {
     "data": {
      "text/plain": [
       "(array(['Chris Woakes', 'Ben Stokes'], dtype='<U19'),\n",
       " array([0.1863, 0.1512], dtype=float32))"
      ]
     },
     "execution_count": 36,
     "metadata": {},
     "output_type": "execute_result"
    }
   ],
   "source": [
    "top_all_rounders, top_all_rounders_ratings"
   ]
  },
  {
   "cell_type": "markdown",
   "id": "143849d8",
   "metadata": {},
   "source": [
    "### 3 Spinners"
   ]
  },
  {
   "cell_type": "code",
   "execution_count": 37,
   "id": "22a109bc",
   "metadata": {},
   "outputs": [
    {
     "data": {
      "text/plain": [
       "(array(['Allrounder', 'Allrounder', 'Bowler', 'Bowler', 'Allrounder',\n",
       "        'Bowler'], dtype='<U10'),\n",
       " array(['Right arm Fast medium', 'Right arm Fast medium',\n",
       "        'Slow Left arm Orthodox', 'Right arm Fast medium',\n",
       "        'Left arm Medium fast', 'Right arm Fast medium'], dtype='<U22'))"
      ]
     },
     "execution_count": 37,
     "metadata": {},
     "output_type": "execute_result"
    }
   ],
   "source": [
    "intl_bowler_roles, intl_bowling_styles"
   ]
  },
  {
   "cell_type": "code",
   "execution_count": 38,
   "id": "17ecb182",
   "metadata": {},
   "outputs": [
    {
     "data": {
      "text/plain": [
       "array([False, False,  True, False, False, False])"
      ]
     },
     "execution_count": 38,
     "metadata": {},
     "output_type": "execute_result"
    }
   ],
   "source": [
    "np.array([st in intl_spin_types for st in intl_bowling_styles])"
   ]
  },
  {
   "cell_type": "code",
   "execution_count": 39,
   "id": "fef97a4d",
   "metadata": {},
   "outputs": [
    {
     "data": {
      "text/plain": [
       "array(['Jack Leach'], dtype='<U14')"
      ]
     },
     "execution_count": 39,
     "metadata": {},
     "output_type": "execute_result"
    }
   ],
   "source": [
    "intl_bowlers[np.array([st in intl_spin_types for st in intl_bowling_styles])]"
   ]
  },
  {
   "cell_type": "code",
   "execution_count": 40,
   "id": "d94b255c",
   "metadata": {},
   "outputs": [],
   "source": [
    "# top wicket keepers\n",
    "spinners = intl_bowlers[np.array([st in intl_spin_types for st in intl_bowling_styles])]\n",
    "spinner_ratings = intl_bowler_ratings[np.array([st in intl_spin_types for st in intl_bowling_styles])] * international_weight\n",
    "\n",
    "spinners_d = dmstc_bowlers[np.array([st in dmstc_spin_types for st in dmstc_bowling_styles])]\n",
    "spinners_d = np.array([\"[D] \" + d for d in spinners_d])\n",
    "spinners = np.append(spinners, spinners_d)\n",
    "spinner_ratings = np.append(spinner_ratings, dmstc_bowler_ratings[np.array([st in dmstc_spin_types for st in dmstc_bowling_styles])]  * (1-international_weight))\n"
   ]
  },
  {
   "cell_type": "code",
   "execution_count": 41,
   "id": "d7af01ef",
   "metadata": {},
   "outputs": [],
   "source": [
    "sorted_idx = np.argsort(spinner_ratings)[::-1]\n",
    "top_spinners = spinners[sorted_idx][:4]\n",
    "top_spinner_ratings = spinner_ratings[sorted_idx][:4]\n",
    "# 4 spinners due to repetition of jack leach"
   ]
  },
  {
   "cell_type": "code",
   "execution_count": 42,
   "id": "c39aa7ef",
   "metadata": {},
   "outputs": [
    {
     "data": {
      "text/plain": [
       "(array(['Jack Leach', '[D] Dom Bess', '[D] Jack Leach', '[D] Amar Virdi'],\n",
       "       dtype='<U15'),\n",
       " array([0.1863, 0.0408, 0.0319, 0.0258], dtype=float32))"
      ]
     },
     "execution_count": 42,
     "metadata": {},
     "output_type": "execute_result"
    }
   ],
   "source": [
    "top_spinners, top_spinner_ratings"
   ]
  },
  {
   "cell_type": "markdown",
   "id": "0f809af5",
   "metadata": {},
   "source": [
    "### 4 Non spinners (i.e., fast, medium etc.)"
   ]
  },
  {
   "cell_type": "code",
   "execution_count": 43,
   "id": "93fe39a2",
   "metadata": {},
   "outputs": [
    {
     "data": {
      "text/plain": [
       "array(['Ben Stokes', 'Chris Woakes', 'James Anderson', 'Sam Curran',\n",
       "       'Stuart Broad'], dtype='<U14')"
      ]
     },
     "execution_count": 43,
     "metadata": {},
     "output_type": "execute_result"
    }
   ],
   "source": [
    "intl_bowlers[np.array([st not in intl_spin_types for st in intl_bowling_styles])]"
   ]
  },
  {
   "cell_type": "code",
   "execution_count": 44,
   "id": "b3e2f01b",
   "metadata": {},
   "outputs": [],
   "source": [
    "# top fasts\n",
    "non_spinners = intl_bowlers[np.array([st not in intl_spin_types for st in intl_bowling_styles])]\n",
    "non_spinner_ratings = intl_bowler_ratings[np.array([st not in intl_spin_types for st in intl_bowling_styles])] * international_weight\n",
    "\n",
    "non_spinners_d = dmstc_bowlers[np.array([st not in dmstc_spin_types for st in dmstc_bowling_styles])]\n",
    "non_spinners_d = np.array([\"[D] \" + d for d in non_spinners_d])\n",
    "non_spinners = np.append(non_spinners, non_spinners_d)\n",
    "non_spinner_ratings = np.append(non_spinner_ratings, dmstc_bowler_ratings[np.array([st not in dmstc_spin_types for st in dmstc_bowling_styles])]  * (1-international_weight))\n"
   ]
  },
  {
   "cell_type": "code",
   "execution_count": 45,
   "id": "659c7bc8",
   "metadata": {},
   "outputs": [
    {
     "data": {
      "text/plain": [
       "array([0.0432, 0.0155, 0.0308, 0.0229, 0.0316, 0.0245, 0.0306, 0.034 ,\n",
       "       0.0283, 0.0271], dtype=float32)"
      ]
     },
     "execution_count": 45,
     "metadata": {},
     "output_type": "execute_result"
    }
   ],
   "source": [
    "dmstc_bowler_ratings[np.array([st not in dmstc_spin_types for st in dmstc_bowling_styles])]  * (1-international_weight)"
   ]
  },
  {
   "cell_type": "code",
   "execution_count": 46,
   "id": "dbff32fc",
   "metadata": {},
   "outputs": [],
   "source": [
    "sorted_idx = np.argsort(non_spinner_ratings)[::-1]\n",
    "top_non_spinners = non_spinners[sorted_idx][:6]\n",
    "top_non_spinner_ratings = non_spinner_ratings[sorted_idx][:6]\n",
    "#6 bolwers due to repetition of ben stokes and sam curran in all rounder section"
   ]
  },
  {
   "cell_type": "code",
   "execution_count": 47,
   "id": "ae1adc86",
   "metadata": {},
   "outputs": [
    {
     "data": {
      "text/plain": [
       "(array(['Stuart Broad', 'Chris Woakes', 'James Anderson', 'Sam Curran',\n",
       "        'Ben Stokes', '[D] Craig Overton'], dtype='<U17'),\n",
       " array([0.3294    , 0.3087    , 0.2223    , 0.19619998, 0.14220001,\n",
       "        0.0432    ], dtype=float32))"
      ]
     },
     "execution_count": 47,
     "metadata": {},
     "output_type": "execute_result"
    }
   ],
   "source": [
    "top_non_spinners, top_non_spinner_ratings"
   ]
  },
  {
   "cell_type": "markdown",
   "id": "3006893a",
   "metadata": {},
   "source": [
    "### 8 Batsmen"
   ]
  },
  {
   "cell_type": "code",
   "execution_count": 48,
   "id": "6ecd6d0d",
   "metadata": {},
   "outputs": [
    {
     "data": {
      "text/plain": [
       "array(['Allrounder', 'Allrounder', 'Opening Batter', 'Top order Batter',\n",
       "       'Top order Batter', 'Wicketkeeper Batter', 'Wicketkeeper Batter',\n",
       "       'Middle order Batter', 'Opening Batter', 'Allrounder',\n",
       "       'Top order Batter'], dtype='<U19')"
      ]
     },
     "execution_count": 48,
     "metadata": {},
     "output_type": "execute_result"
    }
   ],
   "source": [
    "intl_batsmen_roles"
   ]
  },
  {
   "cell_type": "code",
   "execution_count": 49,
   "id": "d19526e6",
   "metadata": {},
   "outputs": [],
   "source": [
    "# top wicket keepers\n",
    "batsmen = intl_batsmen[(intl_batsmen_roles != \"Allrounder\") & (intl_batsmen_roles != \"Batting Allrounder\") & (intl_batsmen_roles != \"Bowling Allrounder\") & (intl_batsmen_roles != \"Wicketkeeper Batter\")]\n",
    "batsmen_ratings = intl_batsmen_ratings[(intl_batsmen_roles != \"Allrounder\") & (intl_batsmen_roles != \"Batting Allrounder\") & (intl_batsmen_roles != \"Bowling Allrounder\") & (intl_batsmen_roles != \"Wicketkeeper Batter\")] * international_weight\n",
    "\n",
    "batsmen_d = dmstc_batsmen[(dmstc_batsmen_roles != \"Allrounder\") & (dmstc_batsmen_roles != \"Batting Allrounder\") & (dmstc_batsmen_roles != \"Bowling Allrounder\") & (dmstc_batsmen_roles != \"Wicketkeeper Batter\")]\n",
    "batsmen_d = np.array([\"[D] \" + d for d in batsmen_d])\n",
    "batsmen = np.append(batsmen, batsmen_d)\n",
    "batsmen_ratings = np.append(batsmen_ratings, dmstc_batsmen_ratings[(dmstc_batsmen_roles != \"Allrounder\") & (dmstc_batsmen_roles != \"Batting Allrounder\") & (dmstc_batsmen_roles != \"Bowling Allrounder\") & (dmstc_batsmen_roles != \"Wicketkeeper Batter\")]  * (1-international_weight))\n"
   ]
  },
  {
   "cell_type": "code",
   "execution_count": 57,
   "id": "2643b73c",
   "metadata": {},
   "outputs": [],
   "source": [
    "sorted_idx = np.argsort(batsmen_ratings)[::-1]\n",
    "top_batsmen = batsmen[sorted_idx][:n_batsmen]\n",
    "top_batsmen_ratings = batsmen_ratings[sorted_idx][:n_batsmen]\n",
    "#9 batsmen due to repition of zak crawley from domestic and international both"
   ]
  },
  {
   "cell_type": "code",
   "execution_count": 58,
   "id": "53402b6e",
   "metadata": {
    "scrolled": true
   },
   "outputs": [
    {
     "data": {
      "text/plain": [
       "(array(['Dom Sibley', 'Rory Burns', 'Ollie Pope', 'Joe Root',\n",
       "        'Zak Crawley', 'Joe Denly', '[D] Zak Crawley', '[D] Steven Davies',\n",
       "        '[D] Ben Duckett'], dtype='<U24'),\n",
       " array([0.2133    , 0.189     , 0.13139999, 0.12959999, 0.1251    ,\n",
       "        0.1125    , 0.0413    , 0.0332    , 0.0303    ], dtype=float32))"
      ]
     },
     "execution_count": 58,
     "metadata": {},
     "output_type": "execute_result"
    }
   ],
   "source": [
    "top_batsmen, top_batsmen_ratings"
   ]
  }
 ],
 "metadata": {
  "kernelspec": {
   "display_name": "Python 3 (ipykernel)",
   "language": "python",
   "name": "python3"
  },
  "language_info": {
   "codemirror_mode": {
    "name": "ipython",
    "version": 3
   },
   "file_extension": ".py",
   "mimetype": "text/x-python",
   "name": "python",
   "nbconvert_exporter": "python",
   "pygments_lexer": "ipython3",
   "version": "3.9.7"
  }
 },
 "nbformat": 4,
 "nbformat_minor": 5
}
